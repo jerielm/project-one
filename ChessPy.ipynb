{
 "cells": [
  {
   "cell_type": "code",
   "execution_count": 1,
   "metadata": {},
   "outputs": [],
   "source": [
    "# Dependencies and Setup\n",
    "import matplotlib.pyplot as plt\n",
    "import pandas as pd\n",
    "import numpy as np\n",
    "import requests\n",
    "import time\n",
    "from pprint import pprint\n",
    "import scipy.stats as st\n",
    "import os.path\n",
    "from os import path\n",
    "\n",
    "# Incorporated citipy to determine city based on latitude and longitude\n",
    "from citipy import citipy\n",
    "\n",
    "# Output File (CSV)\n",
    "output_data_file_players = \"../output_data/players.csv\"\n",
    "\n",
    "# Range of latitudes and longitudes\n",
    "# lat_range = (-90, 90)\n",
    "# lng_range = (-180, 180)"
   ]
  },
  {
   "cell_type": "code",
   "execution_count": 5,
   "metadata": {},
   "outputs": [],
   "source": [
    "def get_titledplayers_api(playertypes):\n",
    "    url = \"https://api.chess.com/pub/titled/\"\n",
    "    \n",
    "    i = 0        \n",
    "    players_data = []\n",
    "    \n",
    "    for playertype in playertypes:\n",
    "        print(f\"Index {str(i)} fetching player list for titled player type {playertype}\")\n",
    "    \n",
    "        # Build query URL\n",
    "        query_url = f\"{url}{playertype}\"\n",
    "\n",
    "        # increment index counter\n",
    "        i += 1\n",
    "\n",
    "        # Get weather data    \n",
    "        playertype_response = requests.get(query_url)\n",
    "        playertype_json = playertype_response.json()\n",
    "        players_data.append(playertype_json)        \n",
    "        time.sleep(1)    \n",
    "        \n",
    "    return players_data"
   ]
  },
  {
   "cell_type": "code",
   "execution_count": 14,
   "metadata": {},
   "outputs": [],
   "source": [
    "def get_playerdata_api(player_usernames):\n",
    "    url = \"https://api.chess.com/pub/player/\"\n",
    "    \n",
    "    i = 0        \n",
    "    player_data = []\n",
    "    \n",
    "    for player_username in player_usernames:\n",
    "        print(f\"Index {str(i)} fetching player data for player {player_username}\")\n",
    "    \n",
    "        # Build query URL\n",
    "        query_url = f\"{url}{player_username}\"\n",
    "\n",
    "        # increment index counter\n",
    "        i += 1\n",
    "\n",
    "        # Get weather data    \n",
    "        player_response = requests.get(query_url)\n",
    "        player_json = player_response.json()\n",
    "        player_data.append(player_json)        \n",
    "        time.sleep(1)    \n",
    "        \n",
    "        if i > 10:\n",
    "            break\n",
    "    return player_data"
   ]
  },
  {
   "cell_type": "code",
   "execution_count": 7,
   "metadata": {},
   "outputs": [],
   "source": [
    "titled_players_type = [\"GM\",\"WGM\",\"IM\",\"WIM\",\"FM\",\"WFM\",\"NM\",\"WNM\",\"CM\",\"WCM\"]"
   ]
  },
  {
   "cell_type": "code",
   "execution_count": 8,
   "metadata": {},
   "outputs": [
    {
     "name": "stdout",
     "output_type": "stream",
     "text": [
      "Index 0 fetching player list for titled player type GM\n",
      "Index 1 fetching player list for titled player type WGM\n",
      "Index 2 fetching player list for titled player type IM\n",
      "Index 3 fetching player list for titled player type WIM\n",
      "Index 4 fetching player list for titled player type FM\n",
      "Index 5 fetching player list for titled player type WFM\n",
      "Index 6 fetching player list for titled player type NM\n",
      "Index 7 fetching player list for titled player type WNM\n",
      "Index 8 fetching player list for titled player type CM\n",
      "Index 9 fetching player list for titled player type WCM\n"
     ]
    }
   ],
   "source": [
    "playerslist_data = get_titledplayers_api(titled_players_type)"
   ]
  },
  {
   "cell_type": "code",
   "execution_count": 9,
   "metadata": {},
   "outputs": [],
   "source": [
    "playerlist_index = 0\n",
    "i = 0\n",
    "\n",
    "player_usernames = []\n",
    "\n",
    "for playerlist in playerslist_data:    \n",
    "    for player in playerlist[\"players\"]:        \n",
    "        player_usernames.append(player)\n",
    "        \n",
    "    playerlist_index += 1\n",
    "    "
   ]
  },
  {
   "cell_type": "markdown",
   "metadata": {},
   "source": [
    "```{\n",
    "  \"avatar\": \"https://images.chesscomfiles.com/uploads/v1/user/14775486.9072453d.200x200o.50bb2d10a7d5.jpeg\",\n",
    "  \"player_id\": 14775486,\n",
    "  \"@id\": \"https://api.chess.com/pub/player/140mariam\",\n",
    "  \"url\": \"https://www.chess.com/member/140mariam\",\n",
    "  \"name\": \"Mariam Avetisyan\",\n",
    "  \"username\": \"140mariam\",\n",
    "  \"title\": \"WFM\",\n",
    "  \"followers\": 56,\n",
    "  \"country\": \"https://api.chess.com/pub/country/AM\",\n",
    "  \"last_online\": 1609780423,\n",
    "  \"joined\": 1385829847,\n",
    "  \"status\": \"premium\",\n",
    "  \"is_streamer\": false\n",
    "}\n",
    "```"
   ]
  },
  {
   "cell_type": "code",
   "execution_count": 12,
   "metadata": {},
   "outputs": [
    {
     "data": {
      "text/plain": [
       "9303"
      ]
     },
     "execution_count": 12,
     "metadata": {},
     "output_type": "execute_result"
    }
   ],
   "source": [
    "len(player_usernames)"
   ]
  },
  {
   "cell_type": "code",
   "execution_count": 15,
   "metadata": {},
   "outputs": [
    {
     "name": "stdout",
     "output_type": "stream",
     "text": [
      "Index 0 fetching player data for player 123lt\n",
      "Index 1 fetching player data for player 124chess\n",
      "Index 2 fetching player data for player 1977ivan\n",
      "Index 3 fetching player data for player 1stsecond\n",
      "Index 4 fetching player data for player 2nd_life\n",
      "Index 5 fetching player data for player 4thd-alpeacefulmoon\n",
      "Index 6 fetching player data for player 64aramis64\n",
      "Index 7 fetching player data for player 64arthos64\n",
      "Index 8 fetching player data for player 64atilla64\n",
      "Index 9 fetching player data for player 64dartagnan64\n",
      "Index 10 fetching player data for player 64genghis64\n"
     ]
    }
   ],
   "source": [
    "playerdata = get_playerdata_api(player_usernames)"
   ]
  },
  {
   "cell_type": "code",
   "execution_count": 16,
   "metadata": {},
   "outputs": [
    {
     "data": {
      "text/plain": [
       "[{'avatar': 'https://images.chesscomfiles.com/uploads/v1/user/18800602.e26b721f.200x200o.e738019a328a.jpeg',\n",
       "  'player_id': 18800602,\n",
       "  '@id': 'https://api.chess.com/pub/player/123lt',\n",
       "  'url': 'https://www.chess.com/member/123lt',\n",
       "  'name': 'Tingjie Lei',\n",
       "  'username': '123lt',\n",
       "  'title': 'GM',\n",
       "  'followers': 32,\n",
       "  'country': 'https://api.chess.com/pub/country/CN',\n",
       "  'last_online': 1608465021,\n",
       "  'joined': 1410059361,\n",
       "  'status': 'premium',\n",
       "  'is_streamer': False},\n",
       " {'avatar': 'https://images.chesscomfiles.com/uploads/v1/user/29499974.39041f89.200x200o.f6478a5ae8e2.jpeg',\n",
       "  'player_id': 29499974,\n",
       "  '@id': 'https://api.chess.com/pub/player/124chess',\n",
       "  'url': 'https://www.chess.com/member/124chess',\n",
       "  'name': 'Дмитрий Хегай',\n",
       "  'username': '124chess',\n",
       "  'title': 'GM',\n",
       "  'followers': 79,\n",
       "  'country': 'https://api.chess.com/pub/country/RU',\n",
       "  'location': 'Красноярск',\n",
       "  'last_online': 1609836300,\n",
       "  'joined': 1471316272,\n",
       "  'status': 'premium',\n",
       "  'is_streamer': False},\n",
       " {'avatar': 'https://images.chesscomfiles.com/uploads/v1/user/30610578.e05f2196.200x200o.3948baec540a.jpeg',\n",
       "  'player_id': 30610578,\n",
       "  '@id': 'https://api.chess.com/pub/player/1977ivan',\n",
       "  'url': 'https://www.chess.com/member/1977Ivan',\n",
       "  'name': 'Ivan Ivanisevic',\n",
       "  'username': '1977ivan',\n",
       "  'title': 'GM',\n",
       "  'followers': 94,\n",
       "  'country': 'https://api.chess.com/pub/country/RS',\n",
       "  'location': 'Belgrade',\n",
       "  'last_online': 1609863671,\n",
       "  'joined': 1477565847,\n",
       "  'status': 'premium',\n",
       "  'is_streamer': False},\n",
       " {'avatar': 'https://images.chesscomfiles.com/uploads/v1/user/13013662.cd1d1c55.200x200o.895c29f69c54.jpeg',\n",
       "  'player_id': 13013662,\n",
       "  '@id': 'https://api.chess.com/pub/player/1stsecond',\n",
       "  'url': 'https://www.chess.com/member/1stSecond',\n",
       "  'name': 'Nikita Meshkovs',\n",
       "  'username': '1stsecond',\n",
       "  'title': 'GM',\n",
       "  'followers': 735,\n",
       "  'country': 'https://api.chess.com/pub/country/LV',\n",
       "  'location': 'Riga',\n",
       "  'last_online': 1609536323,\n",
       "  'joined': 1375617889,\n",
       "  'status': 'premium',\n",
       "  'is_streamer': False},\n",
       " {'avatar': 'https://images.chesscomfiles.com/uploads/v1/user/39230304.414d9817.200x200o.46cbdae3f782.png',\n",
       "  'player_id': 39230304,\n",
       "  '@id': 'https://api.chess.com/pub/player/2nd_life',\n",
       "  'url': 'https://www.chess.com/member/2nd_life',\n",
       "  'name': 'Florian Jenni',\n",
       "  'username': '2nd_life',\n",
       "  'title': 'GM',\n",
       "  'followers': 22,\n",
       "  'country': 'https://api.chess.com/pub/country/CH',\n",
       "  'location': 'Zurich',\n",
       "  'last_online': 1609861080,\n",
       "  'joined': 1507311109,\n",
       "  'status': 'premium',\n",
       "  'is_streamer': False},\n",
       " {'avatar': 'https://images.chesscomfiles.com/uploads/v1/user/69412324.a8a2af79.200x200o.f77e8743116c.jpeg',\n",
       "  'player_id': 69412324,\n",
       "  '@id': 'https://api.chess.com/pub/player/4thd-alpeacefulmoon',\n",
       "  'url': 'https://www.chess.com/member/4thD-alpeacefulmoon',\n",
       "  'name': 'Robert Markus',\n",
       "  'username': '4thd-alpeacefulmoon',\n",
       "  'title': 'GM',\n",
       "  'followers': 1,\n",
       "  'country': 'https://api.chess.com/pub/country/RS',\n",
       "  'last_online': 1582473834,\n",
       "  'joined': 1576488055,\n",
       "  'status': 'premium',\n",
       "  'is_streamer': False},\n",
       " {'player_id': 73365394,\n",
       "  '@id': 'https://api.chess.com/pub/player/64aramis64',\n",
       "  'url': 'https://www.chess.com/member/64Aramis64',\n",
       "  'username': '64aramis64',\n",
       "  'title': 'GM',\n",
       "  'followers': 6,\n",
       "  'country': 'https://api.chess.com/pub/country/US',\n",
       "  'last_online': 1609866284,\n",
       "  'joined': 1583956667,\n",
       "  'status': 'premium',\n",
       "  'is_streamer': False},\n",
       " {'player_id': 73365768,\n",
       "  '@id': 'https://api.chess.com/pub/player/64arthos64',\n",
       "  'url': 'https://www.chess.com/member/64Arthos64',\n",
       "  'username': '64arthos64',\n",
       "  'title': 'GM',\n",
       "  'followers': 4,\n",
       "  'country': 'https://api.chess.com/pub/country/US',\n",
       "  'last_online': 1584212581,\n",
       "  'joined': 1583957153,\n",
       "  'status': 'premium',\n",
       "  'is_streamer': False},\n",
       " {'player_id': 73366590,\n",
       "  '@id': 'https://api.chess.com/pub/player/64atilla64',\n",
       "  'url': 'https://www.chess.com/member/64Atilla64',\n",
       "  'username': '64atilla64',\n",
       "  'title': 'GM',\n",
       "  'followers': 7,\n",
       "  'country': 'https://api.chess.com/pub/country/US',\n",
       "  'last_online': 1609182946,\n",
       "  'joined': 1583958360,\n",
       "  'status': 'premium',\n",
       "  'is_streamer': False},\n",
       " {'player_id': 73366504,\n",
       "  '@id': 'https://api.chess.com/pub/player/64dartagnan64',\n",
       "  'url': 'https://www.chess.com/member/64Dartagnan64',\n",
       "  'username': '64dartagnan64',\n",
       "  'title': 'GM',\n",
       "  'followers': 16,\n",
       "  'country': 'https://api.chess.com/pub/country/US',\n",
       "  'last_online': 1609810944,\n",
       "  'joined': 1583958242,\n",
       "  'status': 'premium',\n",
       "  'is_streamer': False},\n",
       " {'player_id': 73367192,\n",
       "  '@id': 'https://api.chess.com/pub/player/64genghis64',\n",
       "  'url': 'https://www.chess.com/member/64Genghis64',\n",
       "  'username': '64genghis64',\n",
       "  'title': 'GM',\n",
       "  'followers': 3,\n",
       "  'country': 'https://api.chess.com/pub/country/US',\n",
       "  'last_online': 1609620735,\n",
       "  'joined': 1583959319,\n",
       "  'status': 'premium',\n",
       "  'is_streamer': False}]"
      ]
     },
     "execution_count": 16,
     "metadata": {},
     "output_type": "execute_result"
    }
   ],
   "source": [
    "playerdata"
   ]
  },
  {
   "cell_type": "code",
   "execution_count": null,
   "metadata": {},
   "outputs": [],
   "source": []
  }
 ],
 "metadata": {
  "kernelspec": {
   "display_name": "Python 3",
   "language": "python",
   "name": "python3"
  },
  "language_info": {
   "codemirror_mode": {
    "name": "ipython",
    "version": 3
   },
   "file_extension": ".py",
   "mimetype": "text/x-python",
   "name": "python",
   "nbconvert_exporter": "python",
   "pygments_lexer": "ipython3",
   "version": "3.8.5"
  }
 },
 "nbformat": 4,
 "nbformat_minor": 4
}

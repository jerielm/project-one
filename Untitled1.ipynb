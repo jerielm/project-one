{
 "cells": [
  {
   "cell_type": "code",
   "execution_count": 10,
   "metadata": {},
   "outputs": [],
   "source": [
    "# Dependencies and Setup\n",
    "import matplotlib.pyplot as plt\n",
    "import pandas as pd\n",
    "import numpy as np\n",
    "import requests\n",
    "import time.join\n",
    "from pprint import pprint\n",
    "import scipy.stats as st\n",
    "from os import path\n",
    "import json\n",
    "\n",
    "output_file = os.path.join(\"output_data\", \"country_player_count.csv\")\n"
   ]
  },
  {
   "cell_type": "code",
   "execution_count": 33,
   "metadata": {
    "scrolled": false
   },
   "outputs": [
    {
     "ename": "TypeError",
     "evalue": "sort_values() missing 1 required positional argument: 'by'",
     "output_type": "error",
     "traceback": [
      "\u001b[1;31m---------------------------------------------------------------------------\u001b[0m",
      "\u001b[1;31mTypeError\u001b[0m                                 Traceback (most recent call last)",
      "\u001b[1;32m<ipython-input-33-97b40b490c89>\u001b[0m in \u001b[0;36m<module>\u001b[1;34m\u001b[0m\n\u001b[0;32m     26\u001b[0m                                        \u001b[1;34m\"Country Code\"\u001b[0m\u001b[1;33m:\u001b[0m \u001b[0mcountry_codes\u001b[0m\u001b[1;33m,\u001b[0m\u001b[1;33m\u001b[0m\u001b[1;33m\u001b[0m\u001b[0m\n\u001b[0;32m     27\u001b[0m                                         \"Player Count\": player_count})\n\u001b[1;32m---> 28\u001b[1;33m \u001b[0mcountry_player_count_df\u001b[0m\u001b[1;33m.\u001b[0m\u001b[0msort_values\u001b[0m\u001b[1;33m(\u001b[0m\u001b[1;33m)\u001b[0m\u001b[1;33m\u001b[0m\u001b[1;33m\u001b[0m\u001b[0m\n\u001b[0m\u001b[0;32m     29\u001b[0m \u001b[1;33m\u001b[0m\u001b[0m\n",
      "\u001b[1;31mTypeError\u001b[0m: sort_values() missing 1 required positional argument: 'by'"
     ]
    }
   ],
   "source": [
    "file = os.path.join(\"resources\", \"countries.csv\")\n",
    "countries_df = pd.read_csv(file)\n",
    "countries_df.head()\n",
    "\n",
    "country_name =[]\n",
    "country_codes = []\n",
    "player_count = []\n",
    "\n",
    "for index, row in countries_df.iterrows():\n",
    "    country_code = row[\"Code\"]\n",
    "    country = row[\"Country\"]\n",
    "    \n",
    "    \n",
    "    filepath = f'output_data/players_{country_code}.csv'\n",
    "    \n",
    "    if (path.exists(filepath)):\n",
    "        players_df =  pd.read_csv(filepath)\n",
    "              \n",
    "\n",
    "    country_name.append(row[\"Country\"])\n",
    "    country_codes.append(row[\"Code\"])\n",
    "    player_count.append(len(players_df))\n",
    "\n",
    "    \n",
    "country_player_count_df = pd.DataFrame({\"Country\": country_name,\n",
    "                                       \"Country Code\": country_codes,\n",
    "                                        \"Player Count\": player_count})\n",
    "country_player_count_df.sort_values()\n",
    "                                        "
   ]
  },
  {
   "cell_type": "code",
   "execution_count": 30,
   "metadata": {},
   "outputs": [
    {
     "data": {
      "image/png": "[encoded data removed]",
      "text/plain": [
       "<Figure size 432x288 with 1 Axes>"
      ]
     },
     "metadata": {
      "needs_background": "light"
     },
     "output_type": "display_data"
    }
   ],
   "source": [
    "country_player_count_df.plot.bar(rot=90)\n",
    "plt.show()"
   ]
  },
  {
   "cell_type": "code",
   "execution_count": null,
   "metadata": {},
   "outputs": [],
   "source": []
  },
  {
   "cell_type": "code",
   "execution_count": null,
   "metadata": {},
   "outputs": [],
   "source": []
  }
 ],
 "metadata": {
  "kernelspec": {
   "display_name": "Python 3",
   "language": "python",
   "name": "python3"
  },
  "language_info": {
   "codemirror_mode": {
    "name": "ipython",
    "version": 3
   },
   "file_extension": ".py",
   "mimetype": "text/x-python",
   "name": "python",
   "nbconvert_exporter": "python",
   "pygments_lexer": "ipython3",
   "version": "3.8.3"
  }
 },
 "nbformat": 4,
 "nbformat_minor": 4
}
